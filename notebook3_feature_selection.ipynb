{
 "cells": [
  {
   "cell_type": "code",
   "execution_count": 1,
   "id": "b7d139fd",
   "metadata": {},
   "outputs": [],
   "source": [
    "import pandas as pd\n",
    "\n",
    "# Load cleaned dataset\n",
    "df = pd.read_csv(\"data/cleaned_heart_disease.csv\")\n",
    "\n",
    "X = df.drop(\"target\", axis=1)\n",
    "y = df[\"target\"]\n"
   ]
  },
  {
   "cell_type": "code",
   "execution_count": 2,
   "id": "c2fa375c",
   "metadata": {},
   "outputs": [
    {
     "name": "stdout",
     "output_type": "stream",
     "text": [
      "thalach        0.127623\n",
      "oldpeak        0.120266\n",
      "age            0.113396\n",
      "chol           0.107469\n",
      "ca             0.102619\n",
      "trestbps       0.099253\n",
      "cp_4.0         0.065627\n",
      "thal_7.0       0.064389\n",
      "exang_1.0      0.043067\n",
      "slope_2.0      0.033297\n",
      "sex_1.0        0.027878\n",
      "restecg_2.0    0.024976\n",
      "fbs_1.0        0.019121\n",
      "cp_3.0         0.016628\n",
      "thal_6.0       0.012327\n",
      "dtype: float64\n"
     ]
    },
    {
     "data": {
      "image/png": "[encoded data removed]",
      "text/plain": [
       "<Figure size 800x600 with 1 Axes>"
      ]
     },
     "metadata": {},
     "output_type": "display_data"
    }
   ],
   "source": [
    "from sklearn.ensemble import RandomForestClassifier\n",
    "import matplotlib.pyplot as plt\n",
    "\n",
    "# Train a Random Forest\n",
    "rf = RandomForestClassifier(n_estimators=200, random_state=42)\n",
    "rf.fit(X, y)\n",
    "\n",
    "# Get feature importance\n",
    "importances = pd.Series(rf.feature_importances_, index=X.columns).sort_values(ascending=False)\n",
    "\n",
    "# Show top 15\n",
    "print(importances.head(15))\n",
    "\n",
    "# Plot\n",
    "plt.figure(figsize=(8,6))\n",
    "importances.head(15).plot(kind=\"barh\")\n",
    "plt.title(\"Top 15 Features (Random Forest Importance)\")\n",
    "plt.gca().invert_yaxis()\n",
    "plt.show()\n"
   ]
  },
  {
   "cell_type": "code",
   "execution_count": 3,
   "id": "00004c90",
   "metadata": {},
   "outputs": [
    {
     "name": "stdout",
     "output_type": "stream",
     "text": [
      "Selected features by RFE: ['thalach', 'oldpeak', 'ca', 'sex_1.0', 'cp_2.0', 'cp_4.0', 'fbs_1.0', 'restecg_2.0', 'slope_2.0', 'thal_7.0']\n"
     ]
    }
   ],
   "source": [
    "from sklearn.feature_selection import RFE\n",
    "from sklearn.linear_model import LogisticRegression\n",
    "\n",
    "# Use Logistic Regression as the base model\n",
    "lr = LogisticRegression(max_iter=1000, random_state=42)\n",
    "\n",
    "# Select top 10 features\n",
    "rfe = RFE(lr, n_features_to_select=10)\n",
    "rfe.fit(X, y)\n",
    "\n",
    "selected_rfe = X.columns[rfe.support_]\n",
    "print(\"Selected features by RFE:\", selected_rfe.tolist())\n"
   ]
  },
  {
   "cell_type": "code",
   "execution_count": 4,
   "id": "3a9ff15f",
   "metadata": {},
   "outputs": [
    {
     "name": "stdout",
     "output_type": "stream",
     "text": [
      "Selected features by Chi-Square: ['oldpeak', 'ca', 'sex_1.0', 'cp_2.0', 'cp_3.0', 'cp_4.0', 'exang_1.0', 'slope_2.0', 'thal_6.0', 'thal_7.0']\n"
     ]
    }
   ],
   "source": [
    "from sklearn.feature_selection import SelectKBest, chi2\n",
    "from sklearn.preprocessing import MinMaxScaler\n",
    "\n",
    "# Scale features to [0,1] for chi2\n",
    "scaler = MinMaxScaler()\n",
    "X_scaled = scaler.fit_transform(X)\n",
    "\n",
    "# Select top 10 features\n",
    "chi2_selector = SelectKBest(score_func=chi2, k=10)\n",
    "chi2_selector.fit(X_scaled, y)\n",
    "\n",
    "selected_chi2 = X.columns[chi2_selector.get_support()]\n",
    "print(\"Selected features by Chi-Square:\", selected_chi2.tolist())\n"
   ]
  },
  {
   "cell_type": "markdown",
   "id": "e2a2eb1d",
   "metadata": {},
   "source": [
    "# Choosing The most important fetures based on the suggestions of the three methods "
   ]
  },
  {
   "cell_type": "code",
   "execution_count": 5,
   "id": "85972cd1",
   "metadata": {},
   "outputs": [
    {
     "name": "stdout",
     "output_type": "stream",
     "text": [
      "✅ Reduced dataset saved with 11 features\n"
     ]
    }
   ],
   "source": [
    "final_features = [\n",
    "    \"thalach\", \"oldpeak\", \"age\", \"chol\", \"ca\", \"trestbps\",\n",
    "    \"sex_1.0\", \"cp_2.0\", \"cp_4.0\", \"slope_2.0\", \"thal_7.0\"\n",
    "]\n",
    "\n",
    "df_reduced = df[final_features + [\"target\"]]\n",
    "df_reduced.to_csv(\"data/reduced_heart_disease.csv\", index=False)\n",
    "\n",
    "print(\"✅ Reduced dataset saved with\", len(final_features), \"features\")\n"
   ]
  },
  {
   "cell_type": "markdown",
   "id": "f1179f80",
   "metadata": {},
   "source": [
    "# Check that reduced df performs better in modeling "
   ]
  },
  {
   "cell_type": "code",
   "execution_count": 6,
   "id": "545e1456",
   "metadata": {},
   "outputs": [],
   "source": [
    "from sklearn.model_selection import train_test_split\n",
    "\n",
    "\n",
    "\n",
    "X_reduced = df[final_features]\n",
    "\n",
    "# Train/test split (same split for both to be fair)\n",
    "Xf_train, Xf_test, yf_train, yf_test = train_test_split(X, y, test_size=0.2, random_state=42)\n",
    "Xr_train, Xr_test, yr_train, yr_test = train_test_split(X_reduced, y, test_size=0.2, random_state=42)\n"
   ]
  },
  {
   "cell_type": "code",
   "execution_count": 7,
   "id": "a3be176e",
   "metadata": {},
   "outputs": [
    {
     "name": "stdout",
     "output_type": "stream",
     "text": [
      "Full feature accuracy: 0.45901639344262296\n",
      "Reduced feature accuracy: 0.5245901639344263\n"
     ]
    }
   ],
   "source": [
    "from sklearn.linear_model import LogisticRegression\n",
    "from sklearn.metrics import accuracy_score\n",
    "\n",
    "# Full model\n",
    "clf_full = LogisticRegression(max_iter=1000, random_state=42)\n",
    "clf_full.fit(Xf_train, yf_train)\n",
    "yfull_pred = clf_full.predict(Xf_test)\n",
    "\n",
    "# Reduced model\n",
    "clf_reduced = LogisticRegression(max_iter=1000, random_state=42)\n",
    "clf_reduced.fit(Xr_train, yr_train)\n",
    "yred_pred = clf_reduced.predict(Xr_test)\n",
    "\n",
    "# Compare accuracy\n",
    "print(\"Full feature accuracy:\", accuracy_score(yf_test, yfull_pred))\n",
    "print(\"Reduced feature accuracy:\", accuracy_score(yr_test, yred_pred))\n"
   ]
  }
 ],
 "metadata": {
  "kernelspec": {
   "display_name": "Python 3",
   "language": "python",
   "name": "python3"
  },
  "language_info": {
   "codemirror_mode": {
    "name": "ipython",
    "version": 3
   },
   "file_extension": ".py",
   "mimetype": "text/x-python",
   "name": "python",
   "nbconvert_exporter": "python",
   "pygments_lexer": "ipython3",
   "version": "3.13.7"
  }
 },
 "nbformat": 4,
 "nbformat_minor": 5
}
