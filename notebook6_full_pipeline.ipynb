{
 "cells": [
  {
   "cell_type": "code",
   "execution_count": 1,
   "id": "007fce75",
   "metadata": {},
   "outputs": [],
   "source": [
    "# Step 1: Imports\n",
    "import pandas as pd\n",
    "import numpy as np\n",
    "import joblib\n",
    "\n",
    "from ucimlrepo import fetch_ucirepo\n",
    "\n",
    "from sklearn.impute import SimpleImputer\n",
    "from sklearn.preprocessing import OneHotEncoder, StandardScaler\n",
    "from sklearn.compose import ColumnTransformer\n",
    "from sklearn.pipeline import Pipeline\n",
    "from sklearn.ensemble import RandomForestClassifier\n",
    "from sklearn.model_selection import train_test_split\n",
    "from sklearn.metrics import accuracy_score, precision_score, recall_score, f1_score, roc_auc_score, confusion_matrix"
   ]
  },
  {
   "cell_type": "code",
   "execution_count": 2,
   "id": "43cbd36b",
   "metadata": {},
   "outputs": [
    {
     "name": "stdout",
     "output_type": "stream",
     "text": [
      "✅ Raw dataset loaded: (303, 13)\n"
     ]
    }
   ],
   "source": [
    "# Step 2: Load raw dataset\n",
    "heart_disease = fetch_ucirepo(id=45)\n",
    "X = heart_disease.data.features\n",
    "y = (heart_disease.data.targets > 0).astype(int).values.ravel()\n",
    "\n",
    "print(\"✅ Raw dataset loaded:\", X.shape)"
   ]
  },
  {
   "cell_type": "code",
   "execution_count": 3,
   "id": "f4d763b9",
   "metadata": {},
   "outputs": [
    {
     "name": "stdout",
     "output_type": "stream",
     "text": [
      "✅ Train-test split done: (242, 13) (61, 13)\n"
     ]
    }
   ],
   "source": [
    "# Step 3: Train-test split\n",
    "X_train, X_test, y_train, y_test = train_test_split(\n",
    "    X, y, test_size=0.2, random_state=42, stratify=y\n",
    ")\n",
    "print(\"✅ Train-test split done:\", X_train.shape, X_test.shape)"
   ]
  },
  {
   "cell_type": "code",
   "execution_count": 4,
   "id": "ec6c393d",
   "metadata": {},
   "outputs": [
    {
     "name": "stdout",
     "output_type": "stream",
     "text": [
      "Categorical: ['sex', 'cp', 'fbs', 'restecg', 'exang', 'slope', 'thal']\n",
      "Numeric: ['age', 'trestbps', 'chol', 'thalach', 'oldpeak', 'ca']\n"
     ]
    }
   ],
   "source": [
    "# Step 4: Define columns\n",
    "categorical_cols = [\"sex\", \"cp\", \"fbs\", \"restecg\", \"exang\", \"slope\", \"thal\"]\n",
    "numeric_cols = [col for col in X.columns if col not in categorical_cols]\n",
    "\n",
    "print(\"Categorical:\", categorical_cols)\n",
    "print(\"Numeric:\", numeric_cols)"
   ]
  },
  {
   "cell_type": "code",
   "execution_count": 5,
   "id": "a936d650",
   "metadata": {},
   "outputs": [],
   "source": [
    "# Step 5: Preprocessor\n",
    "preprocessor = ColumnTransformer(\n",
    "    transformers=[\n",
    "        (\"num\", Pipeline(steps=[\n",
    "            (\"imputer\", SimpleImputer(strategy=\"median\")),\n",
    "            (\"scaler\", StandardScaler())\n",
    "        ]), numeric_cols),\n",
    "\n",
    "        (\"cat\", Pipeline(steps=[\n",
    "            (\"imputer\", SimpleImputer(strategy=\"most_frequent\")),\n",
    "            (\"encoder\", OneHotEncoder(drop=\"first\", handle_unknown=\"ignore\"))\n",
    "        ]), categorical_cols)\n",
    "    ]\n",
    ")"
   ]
  },
  {
   "cell_type": "code",
   "execution_count": 6,
   "id": "f0e56274",
   "metadata": {},
   "outputs": [],
   "source": [
    "# Step 6: Define pipeline (preprocessing + model)\n",
    "pipeline = Pipeline(steps=[\n",
    "    (\"preprocessor\", preprocessor),\n",
    "    (\"classifier\", RandomForestClassifier(n_estimators=200, random_state=42))\n",
    "])"
   ]
  },
  {
   "cell_type": "code",
   "execution_count": 7,
   "id": "b2d60773",
   "metadata": {},
   "outputs": [
    {
     "name": "stdout",
     "output_type": "stream",
     "text": [
      "✅ Pipeline trained successfully\n"
     ]
    }
   ],
   "source": [
    "# Step 7: Train pipeline\n",
    "pipeline.fit(X_train, y_train)\n",
    "print(\"✅ Pipeline trained successfully\")"
   ]
  },
  {
   "cell_type": "code",
   "execution_count": 8,
   "id": "51d06dbc",
   "metadata": {},
   "outputs": [
    {
     "name": "stdout",
     "output_type": "stream",
     "text": [
      "📊 Test Set Evaluation:\n",
      "Accuracy: 0.885\n",
      "Precision: 0.839\n",
      "Recall: 0.929\n",
      "F1-score: 0.881\n",
      "AUC: 0.957\n"
     ]
    }
   ],
   "source": [
    "# Step 8: Evaluate on test set\n",
    "y_pred = pipeline.predict(X_test)\n",
    "y_proba = pipeline.predict_proba(X_test)[:, 1]\n",
    "\n",
    "acc = accuracy_score(y_test, y_pred)\n",
    "prec = precision_score(y_test, y_pred)\n",
    "rec = recall_score(y_test, y_pred)\n",
    "f1 = f1_score(y_test, y_pred)\n",
    "auc = roc_auc_score(y_test, y_proba)\n",
    "\n",
    "print(\"📊 Test Set Evaluation:\")\n",
    "print(f\"Accuracy: {acc:.3f}\")\n",
    "print(f\"Precision: {prec:.3f}\")\n",
    "print(f\"Recall: {rec:.3f}\")\n",
    "print(f\"F1-score: {f1:.3f}\")\n",
    "print(f\"AUC: {auc:.3f}\")\n"
   ]
  },
  {
   "cell_type": "code",
   "execution_count": 9,
   "id": "f4b02d3a",
   "metadata": {},
   "outputs": [
    {
     "name": "stdout",
     "output_type": "stream",
     "text": [
      "💾 Pipeline saved as heart_disease_pipeline.pkl\n"
     ]
    }
   ],
   "source": [
    "# Step 9: Save pipeline\n",
    "joblib.dump(pipeline, \"heart_disease_pipeline.pkl\")\n",
    "print(\"💾 Pipeline saved as heart_disease_pipeline.pkl\")"
   ]
  },
  {
   "cell_type": "code",
   "execution_count": 10,
   "id": "2dc1617b",
   "metadata": {},
   "outputs": [
    {
     "name": "stdout",
     "output_type": "stream",
     "text": [
      "\n",
      "🔎 Sample comparison:\n",
      "    True Label  Predicted  Prob (Disease)\n",
      "0            0          0           0.305\n",
      "1            0          1           0.575\n",
      "2            0          0           0.045\n",
      "3            0          0           0.035\n",
      "4            0          0           0.295\n",
      "5            0          0           0.270\n",
      "6            0          0           0.335\n",
      "7            0          0           0.350\n",
      "8            1          1           0.650\n",
      "9            0          0           0.175\n",
      "10           1          1           0.780\n",
      "11           0          0           0.215\n",
      "12           0          0           0.010\n",
      "13           1          1           0.635\n",
      "14           1          1           0.900\n"
     ]
    }
   ],
   "source": [
    "# Step 10: Inspect misclassifications\n",
    "comparison = pd.DataFrame({\n",
    "    \"True Label\": y_test,\n",
    "    \"Predicted\": y_pred,\n",
    "    \"Prob (Disease)\": y_proba.round(3)\n",
    "})\n",
    "print(\"\\n🔎 Sample comparison:\")\n",
    "print(comparison.head(15))"
   ]
  },
  {
   "cell_type": "markdown",
   "id": "a13a32b5",
   "metadata": {},
   "source": [
    "# Random samples to test after deployment \n"
   ]
  },
  {
   "cell_type": "code",
   "execution_count": 15,
   "id": "63416cc0",
   "metadata": {},
   "outputs": [
    {
     "name": "stdout",
     "output_type": "stream",
     "text": [
      "🔎 Patient features:\n",
      "age          60.0\n",
      "sex           0.0\n",
      "cp            3.0\n",
      "trestbps    120.0\n",
      "chol        178.0\n",
      "fbs           1.0\n",
      "restecg       0.0\n",
      "thalach      96.0\n",
      "exang         0.0\n",
      "oldpeak       0.0\n",
      "slope         1.0\n",
      "ca            0.0\n",
      "thal          3.0\n",
      "Name: 244, dtype: float64\n",
      "\n",
      "True label (0=healthy, 1=diseased): 0\n",
      "\n",
      "Paste this into Streamlit form:\n",
      " {'age': 60.0, 'sex': 0.0, 'cp': 3.0, 'trestbps': 120.0, 'chol': 178.0, 'fbs': 1.0, 'restecg': 0.0, 'thalach': 96.0, 'exang': 0.0, 'oldpeak': 0.0, 'slope': 1.0, 'ca': 0.0, 'thal': 3.0}\n"
     ]
    }
   ],
   "source": [
    "i = 5  # choose the test sample index\n",
    "row = X_test.iloc[i]\n",
    "true_label = y_test[i]   # no .iloc here\n",
    "\n",
    "print(\"🔎 Patient features:\")\n",
    "print(row)\n",
    "print(\"\\nTrue label (0=healthy, 1=diseased):\", true_label)\n",
    "\n",
    "# Convert row to dict for Streamlit\n",
    "row_dict = row.to_dict()\n",
    "print(\"\\nPaste this into Streamlit form:\\n\", row_dict)"
   ]
  }
 ],
 "metadata": {
  "kernelspec": {
   "display_name": "Python 3",
   "language": "python",
   "name": "python3"
  },
  "language_info": {
   "codemirror_mode": {
    "name": "ipython",
    "version": 3
   },
   "file_extension": ".py",
   "mimetype": "text/x-python",
   "name": "python",
   "nbconvert_exporter": "python",
   "pygments_lexer": "ipython3",
   "version": "3.13.7"
  }
 },
 "nbformat": 4,
 "nbformat_minor": 5
}
